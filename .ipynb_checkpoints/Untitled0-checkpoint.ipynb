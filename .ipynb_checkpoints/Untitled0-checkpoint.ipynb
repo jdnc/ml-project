{
 "metadata": {
  "name": ""
 },
 "nbformat": 3,
 "nbformat_minor": 0,
 "worksheets": [
  {
   "cells": [
    {
     "cell_type": "code",
     "collapsed": false,
     "input": [
      "%matplotlib inline"
     ],
     "language": "python",
     "metadata": {},
     "outputs": [],
     "prompt_number": 2
    },
    {
     "cell_type": "code",
     "collapsed": false,
     "input": [
      "import preprocess as pp\n",
      "import experiment as ex\n",
      "import histogram as hs\n",
      "import json "
     ],
     "language": "python",
     "metadata": {},
     "outputs": [],
     "prompt_number": 1
    },
    {
     "cell_type": "code",
     "collapsed": false,
     "input": [
      "feature_dict, col_names = pp.set_targets('/Users/rk7/neurosynth-data/features.txt', threshold=-1)\n",
      "with open('data/terms.json', 'rb') as f:\n",
      "        terms = json.load(f)\n",
      "for key in list(feature_dict):\n",
      "    feature_dict[key] = [x for x in terms if feature_dict[key][x] > 0.001]\n",
      "    if not feature_dict[key]:\n",
      "        del(feature_dict[key])\n",
      "coord_dict = ex.filter_studies_active_voxels('data/docdict.txt', 'data/MNI152_T1_2mm_brain.nii.gz',\n",
      "                                                threshold=500, radius=6)\n",
      "# find intersecting dicts\n",
      "coord_dict, feature_dict = ex.get_intersecting_dicts(coord_dict, feature_dict)"
     ],
     "language": "python",
     "metadata": {},
     "outputs": [],
     "prompt_number": 4
    },
    {
     "cell_type": "code",
     "collapsed": false,
     "input": [
      "import json\n",
      "with open('histo_in', 'wb') as f:\n",
      "    json.dump(feature_dict, f)"
     ],
     "language": "python",
     "metadata": {},
     "outputs": [],
     "prompt_number": 6
    },
    {
     "cell_type": "code",
     "collapsed": false,
     "input": [],
     "language": "python",
     "metadata": {},
     "outputs": []
    }
   ],
   "metadata": {}
  }
 ]
}